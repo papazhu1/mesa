{
 "cells": [
  {
   "cell_type": "code",
   "id": "initial_id",
   "metadata": {
    "collapsed": true,
    "ExecuteTime": {
     "end_time": "2024-09-13T16:32:27.855231Z",
     "start_time": "2024-09-13T16:32:26.906896Z"
    }
   },
   "source": [
    "import torch\n",
    "print(torch.cuda.is_available())\n"
   ],
   "outputs": [
    {
     "name": "stdout",
     "output_type": "stream",
     "text": [
      "False\n"
     ]
    }
   ],
   "execution_count": 1
  },
  {
   "metadata": {
    "ExecuteTime": {
     "end_time": "2024-09-12T07:22:22.103792Z",
     "start_time": "2024-09-12T07:22:22.098104Z"
    }
   },
   "cell_type": "code",
   "source": [
    "import torch\n",
    "print(torch.version.cuda)\n"
   ],
   "id": "f5dcf65e8c24a3d6",
   "execution_count": 2,
   "outputs": []
  },
  {
   "metadata": {
    "ExecuteTime": {
     "end_time": "2024-09-12T07:22:22.183031Z",
     "start_time": "2024-09-12T07:22:22.168546Z"
    }
   },
   "cell_type": "code",
   "source": "",
   "id": "e2836bf0969d5d46",
   "execution_count": null,
   "outputs": []
  },
  {
   "metadata": {
    "ExecuteTime": {
     "end_time": "2024-09-12T07:22:22.324751Z",
     "start_time": "2024-09-12T07:22:22.215070Z"
    }
   },
   "cell_type": "code",
   "source": [
    "import torch\n",
    "print(torch.cuda.device_count())  # 打印可用的GPU数量\n",
    "print(torch.cuda.current_device())  # 打印当前使用的GPU设备索引\n",
    "print(torch.cuda.get_device_name(0))  # 打印第一个GPU的名称\n"
   ],
   "id": "ffef7e97ca5f167e",
   "execution_count": 3,
   "outputs": []
  },
  {
   "metadata": {
    "ExecuteTime": {
     "end_time": "2024-09-14T05:51:13.355767Z",
     "start_time": "2024-09-14T05:51:13.325634Z"
    }
   },
   "cell_type": "code",
   "source": [
    "%matplotlib inline\n",
    "\n",
    "from mesa import Mesa\n",
    "import argparse\n",
    "from utils import Rater, load_dataset\n",
    "from sklearn.tree import *\n",
    "from copy import deepcopy\n",
    "import time\n",
    "\n",
    "import pandas as pd\n",
    "import numpy as np\n",
    "# import seaborn as sns\n",
    "import matplotlib.pyplot as plt\n",
    "\n",
    "parser = argparse.ArgumentParser(description='Mesa Arguments')\n",
    "parser.add_argument('--env-name', default=\"MESA-SAC\")\n",
    "\n",
    "# SAC arguments\n",
    "parser.add_argument('--policy', default=\"Gaussian\",\n",
    "                    help='Policy Type: Gaussian | Deterministic (default: Gaussian)')\n",
    "parser.add_argument('--eval', type=bool, default=True,\n",
    "                    help='Evaluates a policy every 10 episode (default: True)')\n",
    "parser.add_argument('--gamma', type=float, default=0.99, metavar='G',\n",
    "                    help='discount factor for reward (default: 0.99)')\n",
    "parser.add_argument('--tau', type=float, default=0.01, metavar='G',\n",
    "                    help='target smoothing coefficient(τ) (default: 0.01)')\n",
    "parser.add_argument('--lr', type=float, default=0.001, metavar='G',\n",
    "                    help='learning rate (default: 0.001)')\n",
    "parser.add_argument('--lr_decay_steps', type=int, default=10, metavar='N',\n",
    "                    help='step_size of StepLR learning rate decay scheduler (default: 10)')\n",
    "parser.add_argument('--lr_decay_gamma', type=float, default=0.99, metavar='N',\n",
    "                    help='gamma of StepLR learning rate decay scheduler (default: 0.99)')\n",
    "parser.add_argument('--alpha', type=float, default=0.1, metavar='G',\n",
    "                    help='Temperature parameter α determines the relative importance of the entropy\\\n",
    "                            term against the reward (default: 0.1)')\n",
    "parser.add_argument('--automatic_entropy_tuning', type=bool, default=False, metavar='G',\n",
    "                    help='Automaically adjust α (default: False)')\n",
    "parser.add_argument('--seed', type=int, default=None, metavar='N',\n",
    "                    help='random seed (default: None)')\n",
    "parser.add_argument('--batch_size', type=int, default=64, metavar='N',\n",
    "                    help='batch size (default: 64)')\n",
    "parser.add_argument('--hidden_size', type=int, default=50, metavar='N',\n",
    "                    help='hidden size (default: 50)')\n",
    "parser.add_argument('--updates_per_step', type=int, default=1, metavar='N',\n",
    "                    help='model updates per simul|ator step (default: 1)')\n",
    "parser.add_argument('--update_steps', type=int, default=1000, metavar='N',\n",
    "                    help='maximum number of steps (default: 1000)')\n",
    "parser.add_argument('--start_steps', type=int, default=500, metavar='N',\n",
    "                    help='Steps sampling random actions (default: 500)')\n",
    "parser.add_argument('--target_update_interval', type=int, default=1, metavar='N',\n",
    "                    help='Value target update per no. of updates per step (default: 1)')\n",
    "parser.add_argument('--replay_size', type=int, default=1000, metavar='N',\n",
    "                    help='size of replay buffer (default: 1000)')\n",
    "parser.add_argument('--cuda', action=\"store_true\", default=False,\n",
    "                    help='run on CUDA (default: False)')\n",
    "\n",
    "# MESA arguments\n",
    "parser.add_argument('--dataset', type=str, default='Mammo', metavar='N',\n",
    "                    help='the dataset used for meta-training (default: Mammo)')\n",
    "parser.add_argument('--metric', type=str, default='aucprc', metavar='N',\n",
    "                    help='the metric used for evaluate (default: aucprc)')\n",
    "parser.add_argument('--reward_coefficient', type=float, default=100, metavar='N')\n",
    "parser.add_argument('--num_bins', type=int, default=5, metavar='N', \n",
    "                    help='number of bins (default: 5). state-size = 2 * num_bins.')\n",
    "\n",
    "# 高斯函数的sigma使用固定0.2，那么元训练只训练mu\n",
    "parser.add_argument('--sigma', type=float, default=0.2, metavar='N', \n",
    "                    help='sigma of the Gaussian function used in meta-sampling (default: 0.2)')\n",
    "parser.add_argument('--max_estimators', type=int, default=20, metavar='N',\n",
    "                    help='maximum number of base estimators in each meta-training episode (default: 10)')\n",
    "parser.add_argument('--meta_verbose', type=int, default=10, metavar='N',\n",
    "                    help='number of episodes between verbose outputs. \\\n",
    "                    If \\'full\\' print log for each base estimator (default: 10)')\n",
    "parser.add_argument('--meta_verbose_mean_episodes', type=int, default=25, metavar='N',\n",
    "                    help='number of episodes used for compute latest mean score in verbose outputs.')\n",
    "parser.add_argument('--verbose', type=bool, default=False, metavar='N',\n",
    "                    help='enable verbose when ensemble fit (default: False)')\n",
    "parser.add_argument('--random_state', type=int, default=None, metavar='N', \n",
    "                    help='random_state (default: None)')\n",
    "parser.add_argument('--train_ir', type=float, default=1, metavar='N', \n",
    "                    help='imbalance ratio of the training set after meta-sampling (default: 1)')\n",
    "parser.add_argument('--train_ratio', type=float, default=1, metavar='N', \n",
    "                    help='the ratio of the data used in meta-training. \\\n",
    "                    set train_ratio<1 to use a random subset for meta-training (default: 1)')"
   ],
   "id": "446dadef45397f84",
   "outputs": [
    {
     "data": {
      "text/plain": [
       "_StoreAction(option_strings=['--train_ratio'], dest='train_ratio', nargs=None, const=None, default=1, type=<class 'float'>, choices=None, help='the ratio of the data used in meta-training.                     set train_ratio<1 to use a random subset for meta-training (default: 1)', metavar='N')"
      ]
     },
     "execution_count": 2,
     "metadata": {},
     "output_type": "execute_result"
    }
   ],
   "execution_count": 2
  },
  {
   "metadata": {
    "ExecuteTime": {
     "end_time": "2024-09-14T05:51:13.857634Z",
     "start_time": "2024-09-14T05:51:13.434935Z"
    }
   },
   "cell_type": "code",
   "source": [
    "''' Prepare the Environment '''\n",
    "import seaborn as sns\n",
    "from sklearn.model_selection import train_test_split\n",
    "#  load dataset\n",
    "dataset = 'Mammo'\n",
    "X_train, y_train, X_valid, y_valid, X_test, y_test = load_dataset(dataset)\n",
    "X = np.load('dataset/drug_cell_feature.npy')\n",
    "y = np.load('dataset/drug_cell_label.npy')\n",
    "X_train, X_test, y_train, y_test = train_test_split(X, y, test_size=0.2, random_state=42, stratify=y)\n",
    "X_train, X_valid, y_train, y_valid = train_test_split(X_train, y_train, test_size=0.2, random_state=42, stratify=y_train)\n",
    "\n",
    "print(\"type of X_train: \", type(X_train))\n",
    "print(\"type of y_train: \", type(y_train))\n",
    "print(\"X_train shape: \", X_train.shape)\n",
    "print(\"y_train shape: \", y_train.shape)\n",
    "print(\"X_valid shape: \", X_valid.shape)\n",
    "estimator, base_estimator = 'DT', DecisionTreeClassifier(max_depth=None)\n",
    "args = parser.parse_args([])\n",
    "n_estimators = args.max_estimators\n",
    "\n",
    "# plot the class distribution\n",
    "def plot_class_distribution(ax, labels, title):\n",
    "    sns.countplot(data=pd.DataFrame(labels, columns=['Class']), x='Class', ax=ax)\n",
    "    ax.set(title=title)\n",
    "   \n",
    "sns.set(style='whitegrid')\n",
    "sns.set_context('talk', font_scale=1)\n",
    "fig, ax = plt.subplots(figsize=(20, 6))\n",
    "plot_class_distribution( \n",
    "    ax = ax, \n",
    "    labels = np.concatenate([y_train, y_valid, y_test]),\n",
    "    title = f'{dataset} dataset class distribution')\n",
    "plt.tight_layout(pad=1.8)\n",
    "plt.show()"
   ],
   "id": "f39e0945f43a19d5",
   "outputs": [
    {
     "name": "stdout",
     "output_type": "stream",
     "text": [
      "type of X_train:  <class 'numpy.ndarray'>\n",
      "type of y_train:  <class 'numpy.ndarray'>\n",
      "X_train shape:  (36636, 1222)\n",
      "y_train shape:  (36636,)\n",
      "X_valid shape:  (9160, 1222)\n"
     ]
    },
    {
     "data": {
      "text/plain": [
       "<Figure size 2000x600 with 1 Axes>"
      ],
      "image/png": "[encoded data removed]"
     },
     "metadata": {},
     "output_type": "display_data"
    }
   ],
   "execution_count": 3
  },
  {
   "metadata": {
    "jupyter": {
     "is_executing": true
    },
    "ExecuteTime": {
     "start_time": "2024-09-14T05:51:13.865023Z"
    }
   },
   "cell_type": "code",
   "source": [
    "''' Meta-training '''\n",
    "\n",
    "# initialize MESA\n",
    "print ('Dataset: {}'.format(dataset))\n",
    "mesa = Mesa(\n",
    "    args=args, \n",
    "    base_estimator=base_estimator, \n",
    "    n_estimators=args.max_estimators)\n",
    "\n",
    "# start meta-training\n",
    "print ('Start meta-training of MESA ... ...')\n",
    "start_time = time.time()\n",
    "mesa.meta_fit(X_train, y_train, X_valid, y_valid, X_test, y_test)\n",
    "end_time = time.time()\n",
    "print ('Meta-training time: {:.3f} s'.format(end_time - start_time))"
   ],
   "id": "c7ca4e80e3202e45",
   "outputs": [
    {
     "name": "stdout",
     "output_type": "stream",
     "text": [
      "Dataset: Mammo\n",
      "Start meta-training of MESA ... ...\n",
      "meta_fit begin---------------------------------\n",
      "num_bins: 5\n",
      "error_in_bins: [0.   0.25 0.5  0.75 1.  ]\n",
      "total_steps: 1500\n",
      "num_steps: 0\n",
      "acc_train: 0.792 | acc_valid: 0.752 | acc_test: 0.760\n",
      "sen_train: 1.000 | sen_valid: 0.862 | sen_test: 0.828\n",
      "spe_train: 0.783 | spe_valid: 0.748 | spe_test: 0.758\n",
      "gmean_train: 0.885 | gmean_valid: 0.803 | gmean_test: 0.792\n",
      "num_steps: 19\n",
      "acc_train: 0.795 | acc_valid: 0.759 | acc_test: 0.766\n",
      "sen_train: 1.000 | sen_valid: 0.868 | sen_test: 0.844\n",
      "spe_train: 0.787 | spe_valid: 0.755 | spe_test: 0.763\n",
      "gmean_train: 0.887 | gmean_valid: 0.809 | gmean_test: 0.803\n",
      "num_steps: 38\n",
      "acc_train: 0.781 | acc_valid: 0.750 | acc_test: 0.754\n",
      "sen_train: 1.000 | sen_valid: 0.831 | sen_test: 0.847\n",
      "spe_train: 0.772 | spe_valid: 0.746 | spe_test: 0.750\n",
      "gmean_train: 0.879 | gmean_valid: 0.788 | gmean_test: 0.797\n",
      "num_steps: 57\n"
     ]
    }
   ],
   "execution_count": null
  }
 ],
 "metadata": {
  "kernelspec": {
   "display_name": "Python 3",
   "language": "python",
   "name": "python3"
  },
  "language_info": {
   "codemirror_mode": {
    "name": "ipython",
    "version": 2
   },
   "file_extension": ".py",
   "mimetype": "text/x-python",
   "name": "python",
   "nbconvert_exporter": "python",
   "pygments_lexer": "ipython2",
   "version": "2.7.6"
  }
 },
 "nbformat": 4,
 "nbformat_minor": 5
}
